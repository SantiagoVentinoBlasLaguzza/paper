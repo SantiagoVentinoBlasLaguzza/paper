{
 "cells": [
  {
   "cell_type": "code",
   "execution_count": 2,
   "metadata": {},
   "outputs": [
    {
     "name": "stdout",
     "output_type": "stream",
     "text": [
      "2025-05-16 14:48:08,552 - INFO - Found 352 .pt files in matrix.\n",
      "/home/diego/Escritorio/desde_cero/AAL_116/visualize_data.py:34: FutureWarning: You are using `torch.load` with `weights_only=False` (the current default value), which uses the default pickle module implicitly. It is possible to construct malicious pickle data which will execute arbitrary code during unpickling (See https://github.com/pytorch/pytorch/blob/main/SECURITY.md#untrusted-models for more details). In a future release, the default value for `weights_only` will be flipped to `True`. This limits the functions that could be executed during unpickling. Arbitrary objects will no longer be allowed to be loaded via this mode unless they are explicitly allowlisted by the user via `torch.serialization.add_safe_globals`. We recommend you start setting `weights_only=True` for any use case where you don't have full control of the loaded file. Please open an issue on GitHub for any issues related to this experimental feature.\n",
      "  content = torch.load(file_path, map_location=torch.device('cpu')) # Load to CPU\n",
      "2025-05-16 14:48:08,553 - INFO - Expected tensor shape: (5, 116, 116)\n",
      "2025-05-16 14:48:08,553 - INFO - Metric names from first file: ['Correlation_FisherZ', 'NMI', 'GrangerCausality_Directed_FDR', 'DCV_Fast_CV', 'DCV_Slow_CV']\n",
      "2025-05-16 14:48:08,553 - INFO - --- Starting Integrity Checks ---\n",
      "2025-05-16 14:48:08,765 - INFO - --- Integrity Checks Summary ---\n",
      "2025-05-16 14:48:08,765 - INFO - Total files processed: 352/352\n",
      "2025-05-16 14:48:08,765 - INFO - Dimension consistency: OK\n",
      "2025-05-16 14:48:08,765 - INFO - Subjects with NaNs: 0\n",
      "2025-05-16 14:48:08,765 - INFO - Subjects with Infs: 0\n",
      "2025-05-16 14:48:08,765 - INFO - Global Min/Max values per metric:\n",
      "2025-05-16 14:48:08,765 - INFO -   Correlation_FisherZ: Min = -1.6376, Max = 2.7818\n",
      "2025-05-16 14:48:08,765 - INFO -   NMI: Min = 0.0000, Max = 0.6944\n",
      "2025-05-16 14:48:08,765 - INFO -   GrangerCausality_Directed_FDR: Min = 0.0000, Max = 76.1366\n",
      "2025-05-16 14:48:08,765 - INFO -   DCV_Fast_CV: Min = 0.0000, Max = 8796916.0000\n",
      "2025-05-16 14:48:08,765 - INFO -   DCV_Slow_CV: Min = 0.0000, Max = 5576284.5000\n",
      "2025-05-16 14:48:08,765 - INFO - --- Starting Metadata Analysis ---\n",
      "2025-05-16 14:48:08,770 - INFO - Class Distribution (AD/CN/Other):\n",
      "2025-05-16 14:48:08,770 - INFO - \n",
      "Group\n",
      "AD      95\n",
      "MCI     95\n",
      "CN      89\n",
      "LMCI    55\n",
      "EMCI    18\n",
      "2025-05-16 14:48:08,858 - INFO - Saved class distribution plot to visualizations/class_distribution.png\n",
      "2025-05-16 14:48:08,858 - INFO - AD subjects: 95\n",
      "2025-05-16 14:48:08,858 - INFO - CN subjects: 89\n",
      "2025-05-16 14:48:08,858 - WARNING - Subjects with group labels other than AD, CN, Other: 168\n",
      "2025-05-16 14:48:08,858 - INFO - Distribution of 'NumROIsFinalDim':\n",
      "2025-05-16 14:48:08,859 - INFO - \n",
      "NumROIsFinalDim\n",
      "116    352\n",
      "2025-05-16 14:48:08,861 - INFO - Distribution of 'TimePointsForMetrics':\n",
      "2025-05-16 14:48:08,862 - INFO - \n",
      "TimePointsForMetrics\n",
      "140    106\n",
      "197    197\n",
      "200     49\n",
      "2025-05-16 14:48:08,862 - INFO - --- Starting Visualization of Example Data ---\n",
      "2025-05-16 14:48:08,862 - INFO - Plotting for Subject: 003_S_6264, Group: AD\n",
      "2025-05-16 14:48:09,039 - INFO - Saved matrix plot to visualizations/matrix_003_S_6264_AD_Correlation_FisherZ.png\n",
      "/home/diego/anaconda3/lib/python3.11/site-packages/seaborn/_oldcore.py:1119: FutureWarning: use_inf_as_na option is deprecated and will be removed in a future version. Convert inf values to NaN before operating instead.\n",
      "  with pd.option_context('mode.use_inf_as_na', True):\n",
      "2025-05-16 14:48:09,164 - INFO - Saved distribution plot to visualizations/dist_003_S_6264_AD_Correlation_FisherZ.png\n",
      "2025-05-16 14:48:09,335 - INFO - Saved matrix plot to visualizations/matrix_003_S_6264_AD_NMI.png\n",
      "/home/diego/anaconda3/lib/python3.11/site-packages/seaborn/_oldcore.py:1119: FutureWarning: use_inf_as_na option is deprecated and will be removed in a future version. Convert inf values to NaN before operating instead.\n",
      "  with pd.option_context('mode.use_inf_as_na', True):\n",
      "2025-05-16 14:48:09,467 - INFO - Saved distribution plot to visualizations/dist_003_S_6264_AD_NMI.png\n",
      "2025-05-16 14:48:09,467 - INFO - Plotting for Subject: 003_S_6833, Group: AD\n",
      "2025-05-16 14:48:09,662 - INFO - Saved matrix plot to visualizations/matrix_003_S_6833_AD_Correlation_FisherZ.png\n",
      "/home/diego/anaconda3/lib/python3.11/site-packages/seaborn/_oldcore.py:1119: FutureWarning: use_inf_as_na option is deprecated and will be removed in a future version. Convert inf values to NaN before operating instead.\n",
      "  with pd.option_context('mode.use_inf_as_na', True):\n",
      "2025-05-16 14:48:09,771 - INFO - Saved distribution plot to visualizations/dist_003_S_6833_AD_Correlation_FisherZ.png\n",
      "2025-05-16 14:48:09,950 - INFO - Saved matrix plot to visualizations/matrix_003_S_6833_AD_NMI.png\n",
      "/home/diego/anaconda3/lib/python3.11/site-packages/seaborn/_oldcore.py:1119: FutureWarning: use_inf_as_na option is deprecated and will be removed in a future version. Convert inf values to NaN before operating instead.\n",
      "  with pd.option_context('mode.use_inf_as_na', True):\n",
      "2025-05-16 14:48:10,167 - INFO - Saved distribution plot to visualizations/dist_003_S_6833_AD_NMI.png\n",
      "2025-05-16 14:48:10,167 - INFO - Plotting for Subject: 006_S_4153, Group: AD\n",
      "2025-05-16 14:48:10,361 - INFO - Saved matrix plot to visualizations/matrix_006_S_4153_AD_Correlation_FisherZ.png\n",
      "/home/diego/anaconda3/lib/python3.11/site-packages/seaborn/_oldcore.py:1119: FutureWarning: use_inf_as_na option is deprecated and will be removed in a future version. Convert inf values to NaN before operating instead.\n",
      "  with pd.option_context('mode.use_inf_as_na', True):\n",
      "2025-05-16 14:48:10,470 - INFO - Saved distribution plot to visualizations/dist_006_S_4153_AD_Correlation_FisherZ.png\n",
      "2025-05-16 14:48:10,647 - INFO - Saved matrix plot to visualizations/matrix_006_S_4153_AD_NMI.png\n",
      "/home/diego/anaconda3/lib/python3.11/site-packages/seaborn/_oldcore.py:1119: FutureWarning: use_inf_as_na option is deprecated and will be removed in a future version. Convert inf values to NaN before operating instead.\n",
      "  with pd.option_context('mode.use_inf_as_na', True):\n",
      "2025-05-16 14:48:10,774 - INFO - Saved distribution plot to visualizations/dist_006_S_4153_AD_NMI.png\n",
      "2025-05-16 14:48:10,774 - INFO - Visualizations (if any) saved to visualizations\n",
      "2025-05-16 14:48:10,774 - INFO - --- Script Finished ---\n"
     ]
    }
   ],
   "source": [
    "!python visualize_data.py \\\n",
    "    --input_dir matrix/ \\\n",
    "    --output_dir visualizations/ \\\n",
    "    --num_subjects_to_plot 3 \\\n",
    "    --metrics_to_plot \"Correlation_FisherZ\" \"NMI\""
   ]
  }
 ],
 "metadata": {
  "kernelspec": {
   "display_name": "base",
   "language": "python",
   "name": "python3"
  },
  "language_info": {
   "codemirror_mode": {
    "name": "ipython",
    "version": 3
   },
   "file_extension": ".py",
   "mimetype": "text/x-python",
   "name": "python",
   "nbconvert_exporter": "python",
   "pygments_lexer": "ipython3",
   "version": "3.11.11"
  }
 },
 "nbformat": 4,
 "nbformat_minor": 2
}
